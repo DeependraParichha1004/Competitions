{
 "cells": [
  {
   "cell_type": "code",
   "execution_count": 1,
   "id": "c7c16c8b",
   "metadata": {
    "_cell_guid": "b1076dfc-b9ad-4769-8c92-a6c4dae69d19",
    "_uuid": "8f2839f25d086af736a60e9eeb907d3b93b6e0e5",
    "execution": {
     "iopub.execute_input": "2021-09-18T18:24:49.676400Z",
     "iopub.status.busy": "2021-09-18T18:24:49.675466Z",
     "iopub.status.idle": "2021-09-18T18:24:49.684262Z",
     "shell.execute_reply": "2021-09-18T18:24:49.684966Z",
     "shell.execute_reply.started": "2021-09-18T18:02:00.044686Z"
    },
    "papermill": {
     "duration": 0.039031,
     "end_time": "2021-09-18T18:24:49.685370",
     "exception": false,
     "start_time": "2021-09-18T18:24:49.646339",
     "status": "completed"
    },
    "tags": []
   },
   "outputs": [
    {
     "name": "stdout",
     "output_type": "stream",
     "text": [
      "/kaggle/input/tabular-playground-series-sep-2021/train.csv\n",
      "/kaggle/input/tabular-playground-series-sep-2021/test.csv\n",
      "/kaggle/input/tabular-playground-series-sep-2021/sample_solution.csv\n"
     ]
    }
   ],
   "source": [
    "# This Python 3 environment comes with many helpful analytics libraries installed\n",
    "# It is defined by the kaggle/python Docker image: https://github.com/kaggle/docker-python\n",
    "# For example, here's several helpful packages to load\n",
    "\n",
    "import numpy as np # linear algebra\n",
    "import pandas as pd # data processing, CSV file I/O (e.g. pd.read_csv)\n",
    "\n",
    "# Input data files are available in the read-only \"../input/\" directory\n",
    "# For example, running this (by clicking run or pressing Shift+Enter) will list all files under the input directory\n",
    "\n",
    "import os\n",
    "for dirname, _, filenames in os.walk('/kaggle/input'):\n",
    "    for filename in filenames:\n",
    "        print(os.path.join(dirname, filename))\n",
    "\n",
    "# You can write up to 20GB to the current directory (/kaggle/working/) that gets preserved as output when you create a version using \"Save & Run All\" \n",
    "# You can also write temporary files to /kaggle/temp/, but they won't be saved outside of the current session"
   ]
  },
  {
   "cell_type": "code",
   "execution_count": 2,
   "id": "67e5aaf3",
   "metadata": {
    "execution": {
     "iopub.execute_input": "2021-09-18T18:24:49.719982Z",
     "iopub.status.busy": "2021-09-18T18:24:49.719065Z",
     "iopub.status.idle": "2021-09-18T18:24:50.572307Z",
     "shell.execute_reply": "2021-09-18T18:24:50.571577Z",
     "shell.execute_reply.started": "2021-09-18T18:02:00.060493Z"
    },
    "papermill": {
     "duration": 0.872177,
     "end_time": "2021-09-18T18:24:50.572480",
     "exception": false,
     "start_time": "2021-09-18T18:24:49.700303",
     "status": "completed"
    },
    "tags": []
   },
   "outputs": [],
   "source": [
    "import pandas as pd\n",
    "import numpy as np\n",
    "from sklearn.metrics import auc"
   ]
  },
  {
   "cell_type": "code",
   "execution_count": 3,
   "id": "2b65ea29",
   "metadata": {
    "execution": {
     "iopub.execute_input": "2021-09-18T18:24:50.609137Z",
     "iopub.status.busy": "2021-09-18T18:24:50.608222Z",
     "iopub.status.idle": "2021-09-18T18:24:50.744169Z",
     "shell.execute_reply": "2021-09-18T18:24:50.743543Z",
     "shell.execute_reply.started": "2021-09-18T18:02:00.888417Z"
    },
    "papermill": {
     "duration": 0.156255,
     "end_time": "2021-09-18T18:24:50.744326",
     "exception": false,
     "start_time": "2021-09-18T18:24:50.588071",
     "status": "completed"
    },
    "tags": []
   },
   "outputs": [],
   "source": [
    "from sklearn.impute import SimpleImputer\n",
    "from sklearn.preprocessing import StandardScaler\n",
    "from sklearn.pipeline import Pipeline\n",
    "\n",
    "num_pipe=Pipeline([\n",
    "           ('scaler',StandardScaler()),\n",
    "           ('imp',SimpleImputer(strategy='mean',missing_values=np.nan)),\n",
    "])"
   ]
  },
  {
   "cell_type": "code",
   "execution_count": 4,
   "id": "d916d51e",
   "metadata": {
    "execution": {
     "iopub.execute_input": "2021-09-18T18:24:50.779443Z",
     "iopub.status.busy": "2021-09-18T18:24:50.778674Z",
     "iopub.status.idle": "2021-09-18T18:25:29.633463Z",
     "shell.execute_reply": "2021-09-18T18:25:29.632804Z",
     "shell.execute_reply.started": "2021-09-18T18:02:01.014277Z"
    },
    "papermill": {
     "duration": 38.873862,
     "end_time": "2021-09-18T18:25:29.633603",
     "exception": false,
     "start_time": "2021-09-18T18:24:50.759741",
     "status": "completed"
    },
    "tags": []
   },
   "outputs": [],
   "source": [
    "train_set = pd.read_csv('../input/tabular-playground-series-sep-2021/train.csv')\n",
    "test_set = pd.read_csv('../input/tabular-playground-series-sep-2021/test.csv')\n",
    "values=test_set['id']\n",
    "test_set=test_set.drop(['id'],axis=1).copy()"
   ]
  },
  {
   "cell_type": "code",
   "execution_count": 5,
   "id": "962f3a45",
   "metadata": {
    "execution": {
     "iopub.execute_input": "2021-09-18T18:25:30.006170Z",
     "iopub.status.busy": "2021-09-18T18:25:30.004639Z",
     "iopub.status.idle": "2021-09-18T18:25:30.380352Z",
     "shell.execute_reply": "2021-09-18T18:25:30.380874Z",
     "shell.execute_reply.started": "2021-09-18T18:02:42.528905Z"
    },
    "papermill": {
     "duration": 0.732757,
     "end_time": "2021-09-18T18:25:30.381079",
     "exception": false,
     "start_time": "2021-09-18T18:25:29.648322",
     "status": "completed"
    },
    "tags": []
   },
   "outputs": [
    {
     "data": {
      "text/plain": [
       "0         1\n",
       "1         0\n",
       "2         1\n",
       "3         1\n",
       "4         1\n",
       "         ..\n",
       "957914    0\n",
       "957915    1\n",
       "957916    0\n",
       "957917    1\n",
       "957918    0\n",
       "Name: claim, Length: 957919, dtype: int64"
      ]
     },
     "execution_count": 5,
     "metadata": {},
     "output_type": "execute_result"
    }
   ],
   "source": [
    "X_train=train_set.drop(['id','claim'],axis=1).copy()\n",
    "Y_train=train_set['claim'].copy()\n",
    "Y_train"
   ]
  },
  {
   "cell_type": "code",
   "execution_count": 6,
   "id": "3dba5da6",
   "metadata": {
    "execution": {
     "iopub.execute_input": "2021-09-18T18:25:30.420553Z",
     "iopub.status.busy": "2021-09-18T18:25:30.419351Z",
     "iopub.status.idle": "2021-09-18T18:25:38.110598Z",
     "shell.execute_reply": "2021-09-18T18:25:38.111156Z",
     "shell.execute_reply.started": "2021-09-18T18:02:43.118907Z"
    },
    "papermill": {
     "duration": 7.715602,
     "end_time": "2021-09-18T18:25:38.111374",
     "exception": false,
     "start_time": "2021-09-18T18:25:30.395772",
     "status": "completed"
    },
    "tags": []
   },
   "outputs": [],
   "source": [
    "X_train= pd.DataFrame(columns=X_train.columns, data=num_pipe.fit_transform(X_train))\n",
    "test_set = pd.DataFrame(columns=test_set.columns, data=num_pipe.transform(test_set))"
   ]
  },
  {
   "cell_type": "code",
   "execution_count": 7,
   "id": "1132c51f",
   "metadata": {
    "execution": {
     "iopub.execute_input": "2021-09-18T18:25:38.145648Z",
     "iopub.status.busy": "2021-09-18T18:25:38.145074Z",
     "iopub.status.idle": "2021-09-18T18:25:38.387871Z",
     "shell.execute_reply": "2021-09-18T18:25:38.387147Z",
     "shell.execute_reply.started": "2021-09-18T18:02:48.999466Z"
    },
    "papermill": {
     "duration": 0.261652,
     "end_time": "2021-09-18T18:25:38.388032",
     "exception": false,
     "start_time": "2021-09-18T18:25:38.126380",
     "status": "completed"
    },
    "tags": []
   },
   "outputs": [],
   "source": [
    "import catboost\n",
    "from catboost import CatBoostClassifier"
   ]
  },
  {
   "cell_type": "code",
   "execution_count": 8,
   "id": "f874b705",
   "metadata": {
    "execution": {
     "iopub.execute_input": "2021-09-18T18:25:38.422528Z",
     "iopub.status.busy": "2021-09-18T18:25:38.421674Z",
     "iopub.status.idle": "2021-09-18T18:25:38.424485Z",
     "shell.execute_reply": "2021-09-18T18:25:38.423976Z",
     "shell.execute_reply.started": "2021-09-18T18:02:49.213439Z"
    },
    "papermill": {
     "duration": 0.021496,
     "end_time": "2021-09-18T18:25:38.424619",
     "exception": false,
     "start_time": "2021-09-18T18:25:38.403123",
     "status": "completed"
    },
    "tags": []
   },
   "outputs": [],
   "source": [
    "# best_params={'iterations': 15585, \n",
    "#     'objective': 'CrossEntropy', \n",
    "#     'bootstrap_type': 'Bernoulli', \n",
    "#     'od_wait': 1144, \n",
    "#     'learning_rate': 0.023575206684596582, \n",
    "#     'reg_lambda': 36.30433203563295, \n",
    "#     'random_strength': 43.75597655616195, \n",
    "#     'depth': 7, \n",
    "#     'min_data_in_leaf': 11, \n",
    "#     'leaf_estimation_iterations': 1, \n",
    "#     'subsample': 0.8227911142845009,\n",
    "#     'task_type' : 'GPU',\n",
    "#     'devices' : '0',\n",
    "#     'verbose' : 0}"
   ]
  },
  {
   "cell_type": "code",
   "execution_count": 9,
   "id": "b58618d9",
   "metadata": {
    "execution": {
     "iopub.execute_input": "2021-09-18T18:25:38.455791Z",
     "iopub.status.busy": "2021-09-18T18:25:38.454841Z",
     "iopub.status.idle": "2021-09-18T18:25:38.459519Z",
     "shell.execute_reply": "2021-09-18T18:25:38.459069Z",
     "shell.execute_reply.started": "2021-09-18T18:02:49.221584Z"
    },
    "papermill": {
     "duration": 0.021353,
     "end_time": "2021-09-18T18:25:38.459649",
     "exception": false,
     "start_time": "2021-09-18T18:25:38.438296",
     "status": "completed"
    },
    "tags": []
   },
   "outputs": [],
   "source": [
    "# from catboost import CatBoostClassifier\n",
    "# from sklearn.metrics import roc_curve,auc\n",
    "# from sklearn.model_selection import StratifiedKFold\n",
    "\n",
    "# kf=StratifiedKFold(n_splits=5, random_state=1, shuffle=True)\n",
    "# pred=[]\n",
    "# for folds,(idx_train,idx_valid) in enumerate(kf.split(X_train,Y_train)):\n",
    "\n",
    "#   x_train, y_train = X_train.iloc[idx_train], Y_train.iloc[idx_train]\n",
    "#   x_valid, y_valid = X_train.iloc[idx_valid], Y_train.iloc[idx_valid]\n",
    "\n",
    "\n",
    "#   model=CatBoostClassifier(**best_params)\n",
    "#   model.fit(x_train,y_train)\n",
    "\n",
    "#   prob=model.predict_proba(x_valid)[:,1]\n",
    "#   fpr, tpr, _ = roc_curve(y_valid, prob)\n",
    "#   score = auc(fpr, tpr)\n",
    "\n",
    "#   print(f'Fold:{folds+1} Score:{score}')\n",
    "#   preds=model.predict_proba(test_set)[:,1]\n",
    "#   pred.append(preds)"
   ]
  },
  {
   "cell_type": "code",
   "execution_count": 10,
   "id": "a363a8c4",
   "metadata": {
    "execution": {
     "iopub.execute_input": "2021-09-18T18:25:38.523368Z",
     "iopub.status.busy": "2021-09-18T18:25:38.507717Z",
     "iopub.status.idle": "2021-09-18T18:26:52.480878Z",
     "shell.execute_reply": "2021-09-18T18:26:52.481544Z",
     "shell.execute_reply.started": "2021-09-18T18:02:49.237868Z"
    },
    "papermill": {
     "duration": 74.008293,
     "end_time": "2021-09-18T18:26:52.481816",
     "exception": false,
     "start_time": "2021-09-18T18:25:38.473523",
     "status": "completed"
    },
    "tags": []
   },
   "outputs": [
    {
     "name": "stdout",
     "output_type": "stream",
     "text": [
      "0:\tlearn: 0.6910419\ttotal: 763ms\tremaining: 1m 15s\n",
      "1:\tlearn: 0.6892538\ttotal: 1.33s\tremaining: 1m 5s\n",
      "2:\tlearn: 0.6871825\ttotal: 2.04s\tremaining: 1m 5s\n",
      "3:\tlearn: 0.6854292\ttotal: 2.69s\tremaining: 1m 4s\n",
      "4:\tlearn: 0.6835987\ttotal: 3.36s\tremaining: 1m 3s\n",
      "5:\tlearn: 0.6807819\ttotal: 4.38s\tremaining: 1m 8s\n",
      "6:\tlearn: 0.6778815\ttotal: 5.03s\tremaining: 1m 6s\n",
      "7:\tlearn: 0.6751540\ttotal: 5.75s\tremaining: 1m 6s\n",
      "8:\tlearn: 0.6736224\ttotal: 6.46s\tremaining: 1m 5s\n",
      "9:\tlearn: 0.6707943\ttotal: 7.17s\tremaining: 1m 4s\n",
      "10:\tlearn: 0.6682158\ttotal: 7.93s\tremaining: 1m 4s\n",
      "11:\tlearn: 0.6654707\ttotal: 8.62s\tremaining: 1m 3s\n",
      "12:\tlearn: 0.6629213\ttotal: 9.32s\tremaining: 1m 2s\n",
      "13:\tlearn: 0.6614995\ttotal: 9.94s\tremaining: 1m 1s\n",
      "14:\tlearn: 0.6598145\ttotal: 10.6s\tremaining: 60s\n",
      "15:\tlearn: 0.6573416\ttotal: 11.2s\tremaining: 59s\n",
      "16:\tlearn: 0.6561221\ttotal: 11.9s\tremaining: 58.1s\n",
      "17:\tlearn: 0.6540920\ttotal: 12.5s\tremaining: 56.9s\n",
      "18:\tlearn: 0.6527955\ttotal: 13.2s\tremaining: 56.1s\n",
      "19:\tlearn: 0.6514117\ttotal: 13.9s\tremaining: 55.5s\n",
      "20:\tlearn: 0.6502320\ttotal: 14.6s\tremaining: 55.1s\n",
      "21:\tlearn: 0.6479319\ttotal: 15.5s\tremaining: 54.9s\n",
      "22:\tlearn: 0.6473120\ttotal: 16.2s\tremaining: 54.1s\n",
      "23:\tlearn: 0.6450377\ttotal: 16.9s\tremaining: 53.4s\n",
      "24:\tlearn: 0.6427311\ttotal: 17.6s\tremaining: 52.9s\n",
      "25:\tlearn: 0.6415415\ttotal: 18.3s\tremaining: 52.1s\n",
      "26:\tlearn: 0.6393378\ttotal: 19s\tremaining: 51.2s\n",
      "27:\tlearn: 0.6379831\ttotal: 19.5s\tremaining: 50.2s\n",
      "28:\tlearn: 0.6360592\ttotal: 20.2s\tremaining: 49.4s\n",
      "29:\tlearn: 0.6340582\ttotal: 20.8s\tremaining: 48.5s\n",
      "30:\tlearn: 0.6320447\ttotal: 21.5s\tremaining: 47.9s\n",
      "31:\tlearn: 0.6300350\ttotal: 22.3s\tremaining: 47.5s\n",
      "32:\tlearn: 0.6295615\ttotal: 23.5s\tremaining: 47.7s\n",
      "33:\tlearn: 0.6275105\ttotal: 24.2s\tremaining: 46.9s\n",
      "34:\tlearn: 0.6255511\ttotal: 24.9s\tremaining: 46.3s\n",
      "35:\tlearn: 0.6245373\ttotal: 25.8s\tremaining: 45.9s\n",
      "36:\tlearn: 0.6235274\ttotal: 26.6s\tremaining: 45.2s\n",
      "37:\tlearn: 0.6225187\ttotal: 27.1s\tremaining: 44.2s\n",
      "38:\tlearn: 0.6206214\ttotal: 27.8s\tremaining: 43.4s\n",
      "39:\tlearn: 0.6196090\ttotal: 28.4s\tremaining: 42.6s\n",
      "40:\tlearn: 0.6179605\ttotal: 29s\tremaining: 41.8s\n",
      "41:\tlearn: 0.6161479\ttotal: 29.7s\tremaining: 41s\n",
      "42:\tlearn: 0.6151248\ttotal: 30.2s\tremaining: 40.1s\n",
      "43:\tlearn: 0.6136632\ttotal: 30.9s\tremaining: 39.4s\n",
      "44:\tlearn: 0.6119894\ttotal: 31.7s\tremaining: 38.7s\n",
      "45:\tlearn: 0.6111457\ttotal: 32.3s\tremaining: 37.9s\n",
      "46:\tlearn: 0.6095593\ttotal: 33s\tremaining: 37.2s\n",
      "47:\tlearn: 0.6079912\ttotal: 33.8s\tremaining: 36.6s\n",
      "48:\tlearn: 0.6073767\ttotal: 34.3s\tremaining: 35.7s\n",
      "49:\tlearn: 0.6058381\ttotal: 35s\tremaining: 35s\n",
      "50:\tlearn: 0.6050106\ttotal: 35.6s\tremaining: 34.2s\n",
      "51:\tlearn: 0.6040560\ttotal: 36.3s\tremaining: 33.5s\n",
      "52:\tlearn: 0.6035075\ttotal: 37.2s\tremaining: 33s\n",
      "53:\tlearn: 0.6032615\ttotal: 37.8s\tremaining: 32.2s\n",
      "54:\tlearn: 0.6031083\ttotal: 38.2s\tremaining: 31.3s\n",
      "55:\tlearn: 0.6018100\ttotal: 38.9s\tremaining: 30.5s\n",
      "56:\tlearn: 0.6004154\ttotal: 39.6s\tremaining: 29.9s\n",
      "57:\tlearn: 0.5997302\ttotal: 40.2s\tremaining: 29.1s\n",
      "58:\tlearn: 0.5989674\ttotal: 40.9s\tremaining: 28.4s\n",
      "59:\tlearn: 0.5976139\ttotal: 41.5s\tremaining: 27.6s\n",
      "60:\tlearn: 0.5961662\ttotal: 42.2s\tremaining: 27s\n",
      "61:\tlearn: 0.5955221\ttotal: 42.8s\tremaining: 26.2s\n",
      "62:\tlearn: 0.5944829\ttotal: 43.5s\tremaining: 25.5s\n",
      "63:\tlearn: 0.5931886\ttotal: 44.2s\tremaining: 24.9s\n",
      "64:\tlearn: 0.5923539\ttotal: 44.9s\tremaining: 24.2s\n",
      "65:\tlearn: 0.5916610\ttotal: 45.6s\tremaining: 23.5s\n",
      "66:\tlearn: 0.5910729\ttotal: 46.2s\tremaining: 22.8s\n",
      "67:\tlearn: 0.5905729\ttotal: 46.9s\tremaining: 22.1s\n",
      "68:\tlearn: 0.5897672\ttotal: 47.9s\tremaining: 21.5s\n",
      "69:\tlearn: 0.5891115\ttotal: 48.5s\tremaining: 20.8s\n",
      "70:\tlearn: 0.5884935\ttotal: 49.2s\tremaining: 20.1s\n",
      "71:\tlearn: 0.5873940\ttotal: 49.9s\tremaining: 19.4s\n",
      "72:\tlearn: 0.5867084\ttotal: 50.5s\tremaining: 18.7s\n",
      "73:\tlearn: 0.5859086\ttotal: 51.1s\tremaining: 18s\n",
      "74:\tlearn: 0.5857948\ttotal: 51.7s\tremaining: 17.2s\n",
      "75:\tlearn: 0.5854068\ttotal: 52.3s\tremaining: 16.5s\n",
      "76:\tlearn: 0.5852928\ttotal: 52.8s\tremaining: 15.8s\n",
      "77:\tlearn: 0.5841452\ttotal: 53.5s\tremaining: 15.1s\n",
      "78:\tlearn: 0.5835017\ttotal: 54.2s\tremaining: 14.4s\n",
      "79:\tlearn: 0.5829056\ttotal: 54.9s\tremaining: 13.7s\n",
      "80:\tlearn: 0.5823234\ttotal: 56.2s\tremaining: 13.2s\n",
      "81:\tlearn: 0.5817416\ttotal: 57.1s\tremaining: 12.5s\n",
      "82:\tlearn: 0.5813792\ttotal: 57.7s\tremaining: 11.8s\n",
      "83:\tlearn: 0.5812780\ttotal: 58.3s\tremaining: 11.1s\n",
      "84:\tlearn: 0.5807627\ttotal: 59.3s\tremaining: 10.5s\n",
      "85:\tlearn: 0.5802372\ttotal: 1m\tremaining: 9.77s\n",
      "86:\tlearn: 0.5796986\ttotal: 1m\tremaining: 9.08s\n",
      "87:\tlearn: 0.5791523\ttotal: 1m 1s\tremaining: 8.38s\n",
      "88:\tlearn: 0.5785865\ttotal: 1m 2s\tremaining: 7.68s\n",
      "89:\tlearn: 0.5784927\ttotal: 1m 2s\tremaining: 6.96s\n",
      "90:\tlearn: 0.5783977\ttotal: 1m 3s\tremaining: 6.25s\n",
      "91:\tlearn: 0.5782907\ttotal: 1m 3s\tremaining: 5.54s\n",
      "92:\tlearn: 0.5781992\ttotal: 1m 4s\tremaining: 4.85s\n",
      "93:\tlearn: 0.5777174\ttotal: 1m 5s\tremaining: 4.16s\n",
      "94:\tlearn: 0.5776399\ttotal: 1m 5s\tremaining: 3.45s\n",
      "95:\tlearn: 0.5775541\ttotal: 1m 6s\tremaining: 2.76s\n",
      "96:\tlearn: 0.5774594\ttotal: 1m 6s\tremaining: 2.06s\n",
      "97:\tlearn: 0.5773736\ttotal: 1m 7s\tremaining: 1.37s\n",
      "98:\tlearn: 0.5772964\ttotal: 1m 7s\tremaining: 683ms\n",
      "99:\tlearn: 0.5768138\ttotal: 1m 8s\tremaining: 0us\n"
     ]
    },
    {
     "data": {
      "text/plain": [
       "<catboost.core.CatBoostClassifier at 0x7f46d55d6d10>"
      ]
     },
     "execution_count": 10,
     "metadata": {},
     "output_type": "execute_result"
    }
   ],
   "source": [
    "from sklearn.model_selection import cross_val_score,GridSearchCV\n",
    "params={'iterations':100,'learning_rate':0.5,'objective':'Logloss'}\n",
    "model=CatBoostClassifier(**params)\n",
    "model.fit(X_train,Y_train)"
   ]
  },
  {
   "cell_type": "code",
   "execution_count": 11,
   "id": "9736692c",
   "metadata": {
    "execution": {
     "iopub.execute_input": "2021-09-18T18:26:52.586218Z",
     "iopub.status.busy": "2021-09-18T18:26:52.585179Z",
     "iopub.status.idle": "2021-09-18T18:26:52.846699Z",
     "shell.execute_reply": "2021-09-18T18:26:52.845599Z",
     "shell.execute_reply.started": "2021-09-18T18:03:54.313347Z"
    },
    "papermill": {
     "duration": 0.318135,
     "end_time": "2021-09-18T18:26:52.846899",
     "exception": false,
     "start_time": "2021-09-18T18:26:52.528764",
     "status": "completed"
    },
    "tags": []
   },
   "outputs": [],
   "source": [
    "pred=model.predict_proba(test_set)"
   ]
  },
  {
   "cell_type": "code",
   "execution_count": 12,
   "id": "132891e8",
   "metadata": {
    "execution": {
     "iopub.execute_input": "2021-09-18T18:26:52.948937Z",
     "iopub.status.busy": "2021-09-18T18:26:52.946773Z",
     "iopub.status.idle": "2021-09-18T18:26:52.949690Z",
     "shell.execute_reply": "2021-09-18T18:26:52.950197Z",
     "shell.execute_reply.started": "2021-09-18T18:03:54.573034Z"
    },
    "papermill": {
     "duration": 0.056805,
     "end_time": "2021-09-18T18:26:52.950339",
     "exception": false,
     "start_time": "2021-09-18T18:26:52.893534",
     "status": "completed"
    },
    "tags": []
   },
   "outputs": [],
   "source": [
    "preds=pred[:,1]"
   ]
  },
  {
   "cell_type": "code",
   "execution_count": 13,
   "id": "8080e353",
   "metadata": {
    "execution": {
     "iopub.execute_input": "2021-09-18T18:26:53.049095Z",
     "iopub.status.busy": "2021-09-18T18:26:53.048469Z",
     "iopub.status.idle": "2021-09-18T18:26:53.210743Z",
     "shell.execute_reply": "2021-09-18T18:26:53.210140Z",
     "shell.execute_reply.started": "2021-09-18T18:03:54.580791Z"
    },
    "papermill": {
     "duration": 0.213386,
     "end_time": "2021-09-18T18:26:53.210889",
     "exception": false,
     "start_time": "2021-09-18T18:26:52.997503",
     "status": "completed"
    },
    "tags": []
   },
   "outputs": [],
   "source": [
    "sub   = pd.read_csv('../input/tabular-playground-series-sep-2021/sample_solution.csv')"
   ]
  },
  {
   "cell_type": "code",
   "execution_count": 14,
   "id": "a6cb32b6",
   "metadata": {
    "execution": {
     "iopub.execute_input": "2021-09-18T18:26:53.307811Z",
     "iopub.status.busy": "2021-09-18T18:26:53.307077Z",
     "iopub.status.idle": "2021-09-18T18:26:53.310779Z",
     "shell.execute_reply": "2021-09-18T18:26:53.311266Z",
     "shell.execute_reply.started": "2021-09-18T18:03:54.735544Z"
    },
    "papermill": {
     "duration": 0.054708,
     "end_time": "2021-09-18T18:26:53.311489",
     "exception": false,
     "start_time": "2021-09-18T18:26:53.256781",
     "status": "completed"
    },
    "tags": []
   },
   "outputs": [],
   "source": [
    "features = [col for col in train_set.columns if col not in ['claim', 'id']]"
   ]
  },
  {
   "cell_type": "code",
   "execution_count": 15,
   "id": "7c8dac08",
   "metadata": {
    "execution": {
     "iopub.execute_input": "2021-09-18T18:26:53.411188Z",
     "iopub.status.busy": "2021-09-18T18:26:53.410078Z",
     "iopub.status.idle": "2021-09-18T18:26:53.427310Z",
     "shell.execute_reply": "2021-09-18T18:26:53.427853Z",
     "shell.execute_reply.started": "2021-09-18T18:23:49.635906Z"
    },
    "papermill": {
     "duration": 0.070216,
     "end_time": "2021-09-18T18:26:53.428005",
     "exception": false,
     "start_time": "2021-09-18T18:26:53.357789",
     "status": "completed"
    },
    "tags": []
   },
   "outputs": [
    {
     "data": {
      "text/html": [
       "<div>\n",
       "<style scoped>\n",
       "    .dataframe tbody tr th:only-of-type {\n",
       "        vertical-align: middle;\n",
       "    }\n",
       "\n",
       "    .dataframe tbody tr th {\n",
       "        vertical-align: top;\n",
       "    }\n",
       "\n",
       "    .dataframe thead th {\n",
       "        text-align: right;\n",
       "    }\n",
       "</style>\n",
       "<table border=\"1\" class=\"dataframe\">\n",
       "  <thead>\n",
       "    <tr style=\"text-align: right;\">\n",
       "      <th></th>\n",
       "      <th>id</th>\n",
       "      <th>claim</th>\n",
       "    </tr>\n",
       "  </thead>\n",
       "  <tbody>\n",
       "    <tr>\n",
       "      <th>0</th>\n",
       "      <td>957919</td>\n",
       "      <td>0.473548</td>\n",
       "    </tr>\n",
       "    <tr>\n",
       "      <th>1</th>\n",
       "      <td>957920</td>\n",
       "      <td>0.283231</td>\n",
       "    </tr>\n",
       "    <tr>\n",
       "      <th>2</th>\n",
       "      <td>957921</td>\n",
       "      <td>0.396378</td>\n",
       "    </tr>\n",
       "    <tr>\n",
       "      <th>3</th>\n",
       "      <td>957922</td>\n",
       "      <td>0.296028</td>\n",
       "    </tr>\n",
       "    <tr>\n",
       "      <th>4</th>\n",
       "      <td>957923</td>\n",
       "      <td>0.293263</td>\n",
       "    </tr>\n",
       "    <tr>\n",
       "      <th>...</th>\n",
       "      <td>...</td>\n",
       "      <td>...</td>\n",
       "    </tr>\n",
       "    <tr>\n",
       "      <th>493469</th>\n",
       "      <td>1451388</td>\n",
       "      <td>0.591560</td>\n",
       "    </tr>\n",
       "    <tr>\n",
       "      <th>493470</th>\n",
       "      <td>1451389</td>\n",
       "      <td>0.263996</td>\n",
       "    </tr>\n",
       "    <tr>\n",
       "      <th>493471</th>\n",
       "      <td>1451390</td>\n",
       "      <td>0.753757</td>\n",
       "    </tr>\n",
       "    <tr>\n",
       "      <th>493472</th>\n",
       "      <td>1451391</td>\n",
       "      <td>0.278399</td>\n",
       "    </tr>\n",
       "    <tr>\n",
       "      <th>493473</th>\n",
       "      <td>1451392</td>\n",
       "      <td>0.876352</td>\n",
       "    </tr>\n",
       "  </tbody>\n",
       "</table>\n",
       "<p>493474 rows × 2 columns</p>\n",
       "</div>"
      ],
      "text/plain": [
       "             id     claim\n",
       "0        957919  0.473548\n",
       "1        957920  0.283231\n",
       "2        957921  0.396378\n",
       "3        957922  0.296028\n",
       "4        957923  0.293263\n",
       "...         ...       ...\n",
       "493469  1451388  0.591560\n",
       "493470  1451389  0.263996\n",
       "493471  1451390  0.753757\n",
       "493472  1451391  0.278399\n",
       "493473  1451392  0.876352\n",
       "\n",
       "[493474 rows x 2 columns]"
      ]
     },
     "execution_count": 15,
     "metadata": {},
     "output_type": "execute_result"
    }
   ],
   "source": [
    "output2=pd.DataFrame({'id':values,'claim':preds})\n",
    "output2"
   ]
  },
  {
   "cell_type": "code",
   "execution_count": 16,
   "id": "25c4280c",
   "metadata": {
    "execution": {
     "iopub.execute_input": "2021-09-18T18:26:53.605467Z",
     "iopub.status.busy": "2021-09-18T18:26:53.604230Z",
     "iopub.status.idle": "2021-09-18T18:26:55.426137Z",
     "shell.execute_reply": "2021-09-18T18:26:55.425089Z",
     "shell.execute_reply.started": "2021-09-18T18:24:01.640810Z"
    },
    "papermill": {
     "duration": 1.940809,
     "end_time": "2021-09-18T18:26:55.426303",
     "exception": false,
     "start_time": "2021-09-18T18:26:53.485494",
     "status": "completed"
    },
    "tags": []
   },
   "outputs": [],
   "source": [
    "output2.to_csv('submission.csv', index=False)"
   ]
  }
 ],
 "metadata": {
  "kernelspec": {
   "display_name": "Python 3",
   "language": "python",
   "name": "python3"
  },
  "language_info": {
   "codemirror_mode": {
    "name": "ipython",
    "version": 3
   },
   "file_extension": ".py",
   "mimetype": "text/x-python",
   "name": "python",
   "nbconvert_exporter": "python",
   "pygments_lexer": "ipython3",
   "version": "3.7.10"
  },
  "papermill": {
   "default_parameters": {},
   "duration": 134.734614,
   "end_time": "2021-09-18T18:26:56.939058",
   "environment_variables": {},
   "exception": null,
   "input_path": "__notebook__.ipynb",
   "output_path": "__notebook__.ipynb",
   "parameters": {},
   "start_time": "2021-09-18T18:24:42.204444",
   "version": "2.3.3"
  }
 },
 "nbformat": 4,
 "nbformat_minor": 5
}
